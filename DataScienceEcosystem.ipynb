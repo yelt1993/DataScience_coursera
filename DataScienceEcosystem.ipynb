{
 "cells": [
  {
   "cell_type": "markdown",
   "id": "791a7e7e-0c10-46dd-8fdf-d056a75ef5f2",
   "metadata": {},
   "source": [
    "# Data Science Tools  and Ecosystem"
   ]
  },
  {
   "cell_type": "markdown",
   "id": "028f196b-2740-4d9a-ba5f-2b970741ed52",
   "metadata": {},
   "source": [
    "In this notebook, Data Science Tools and Ecosystem are summarized."
   ]
  },
  {
   "cell_type": "markdown",
   "id": "d5f8c452-e08e-44da-9fd5-cd63a9630442",
   "metadata": {},
   "source": [
    "**Objetivos**:\n",
    "* List popular languages for Data Science.\n",
    "* Identify common libraries used in Data Science.\n",
    "* Create a table in markdown.\n",
    "* Demostrate simple arithmetic operations in python.\n",
    "* Convert time units using Python.\n",
    "  \n"
   ]
  },
  {
   "cell_type": "markdown",
   "id": "db336bdb-0ae5-4480-b291-f05abd6a8d2c",
   "metadata": {},
   "source": [
    "Some of the popular languages that Data Scientists use are:\n",
    "1. Python.\n",
    "2. R\n",
    "3. Julia\n",
    "4. Scala"
   ]
  },
  {
   "cell_type": "markdown",
   "id": "43e98fcc-8133-4ec5-aef0-e05e2536bf0e",
   "metadata": {},
   "source": [
    "Some of the commonly used libraries used by Data Sciencetists include:\n",
    "1. Pandas\n",
    "2. Numpy\n",
    "3. Dask\n",
    "4. Matplotlib\n",
    "5. Seaborn\n",
    "6. Scikit learn\n",
    "7. TensorFlow\n"
   ]
  },
  {
   "cell_type": "markdown",
   "id": "66e6e580-8452-4f5d-acdc-6a08d9b3fddd",
   "metadata": {},
   "source": [
    "| Data Science Tools|\n",
    "|----------------------|\n",
    "| Jupyter Notebook     |\n",
    "| RStudio              |\n",
    "| Apache Zeppelin      |\n",
    "\n"
   ]
  },
  {
   "cell_type": "markdown",
   "id": "bc285f32-be56-413d-adf4-8f711322929f",
   "metadata": {},
   "source": [
    "### Below are few examples of evaluating arithmetic expressions in python."
   ]
  },
  {
   "cell_type": "code",
   "execution_count": 1,
   "id": "34e17eab-9587-4ab9-9f82-7ba3340cd39c",
   "metadata": {},
   "outputs": [
    {
     "data": {
      "text/plain": [
       "17"
      ]
     },
     "execution_count": 1,
     "metadata": {},
     "output_type": "execute_result"
    }
   ],
   "source": [
    "# This a simple aritmethic expression to multiply then add integers.\n",
    "(3*4)+5"
   ]
  },
  {
   "cell_type": "code",
   "execution_count": 2,
   "id": "b58d02a3-7494-4bc2-aa31-8211e68d08e5",
   "metadata": {},
   "outputs": [
    {
     "data": {
      "text/plain": [
       "3.3333333333333335"
      ]
     },
     "execution_count": 2,
     "metadata": {},
     "output_type": "execute_result"
    }
   ],
   "source": [
    "# This will convert 200 minutes to hours by dividing by 60.\n",
    "200/60"
   ]
  },
  {
   "cell_type": "markdown",
   "id": "cd928825-74af-4360-b1ba-19ef2703e98a",
   "metadata": {},
   "source": [
    "## Author\n",
    "Yeltsin Muñoz"
   ]
  },
  {
   "cell_type": "code",
   "execution_count": null,
   "id": "21a51c92-ee84-4f33-90f3-257e12a41fe5",
   "metadata": {},
   "outputs": [],
   "source": []
  }
 ],
 "metadata": {
  "kernelspec": {
   "display_name": "Python (DSIBM)",
   "language": "python",
   "name": "mi_entorno"
  },
  "language_info": {
   "codemirror_mode": {
    "name": "ipython",
    "version": 3
   },
   "file_extension": ".py",
   "mimetype": "text/x-python",
   "name": "python",
   "nbconvert_exporter": "python",
   "pygments_lexer": "ipython3",
   "version": "3.9.21"
  }
 },
 "nbformat": 4,
 "nbformat_minor": 5
}
